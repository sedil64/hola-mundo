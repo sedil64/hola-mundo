{
  "nbformat": 4,
  "nbformat_minor": 0,
  "metadata": {
    "colab": {
      "provenance": [],
      "authorship_tag": "ABX9TyOfQulLd75EtswZORF4VZML",
      "include_colab_link": true
    },
    "kernelspec": {
      "name": "python3",
      "display_name": "Python 3"
    },
    "language_info": {
      "name": "python"
    }
  },
  "cells": [
    {
      "cell_type": "markdown",
      "metadata": {
        "id": "view-in-github",
        "colab_type": "text"
      },
      "source": [
        "<a href=\"https://colab.research.google.com/github/sedil64/hola-mundo/blob/main/B_T2_QUISTIAL_DILAN.ipynb\" target=\"_parent\"><img src=\"https://colab.research.google.com/assets/colab-badge.svg\" alt=\"Open In Colab\"/></a>"
      ]
    },
    {
      "cell_type": "markdown",
      "source": [
        "TRABAJO 2-TIC"
      ],
      "metadata": {
        "id": "y4rXb8Z1f0gF"
      }
    },
    {
      "cell_type": "markdown",
      "source": [
        "1. Hola Mundo: Escribe un programa que imprima \"Hola, Mundo!\" en la pantalla.\n",
        "\n",
        "\n"
      ],
      "metadata": {
        "id": "o78XPGqQg4Ep"
      }
    },
    {
      "cell_type": "code",
      "source": [
        "print (\"Hola mundo\")"
      ],
      "metadata": {
        "id": "Vy2YL-EphCBE"
      },
      "execution_count": null,
      "outputs": []
    },
    {
      "cell_type": "markdown",
      "source": [
        "2. Suma de dos números: Escribe un programa que pida al usuario dos números y los sume."
      ],
      "metadata": {
        "id": "Y4aJPIC3hIST"
      }
    },
    {
      "cell_type": "code",
      "source": [
        "num1 = int(input(\"Indique el primer numero a sumar \"))\n",
        "num2 = int(input(\"Indique el primer numero a sumar \"))\n",
        "resultado = num1 + num2\n",
        "print(f\"El resultado es {resultado}\")"
      ],
      "metadata": {
        "colab": {
          "base_uri": "https://localhost:8080/"
        },
        "id": "vVS1pRqhhKyz",
        "outputId": "170bf3cd-7048-46c3-946d-d02f60f2d26e"
      },
      "execution_count": 15,
      "outputs": [
        {
          "output_type": "stream",
          "name": "stdout",
          "text": [
            "Indique el primer numero a sumar 5\n",
            "Indique el primer numero a sumar 8\n",
            "el resultado es 13\n"
          ]
        }
      ]
    },
    {
      "cell_type": "markdown",
      "source": [
        "3. Par o Impar: Escribe un programa que determine si un número introducido por el usuario es par o impar."
      ],
      "metadata": {
        "id": "94XF5KMjhubE"
      }
    },
    {
      "cell_type": "code",
      "source": [
        "#Se genera una variable en donde el usuario colocara el numero\n",
        "num1 = int(input(\"Indique un numero \"))\n",
        "#Se divide el numero por 2 si el residuo es 0 significa que es par por lo que imprimira que es par\n",
        "if num1 % 2 == 0:\n",
        "  print(\"El numero es par\")\n",
        "#En el caso contrario se asume que es impar y se\n",
        "else:\n",
        "  print(\"El numero es impar\")"
      ],
      "metadata": {
        "colab": {
          "base_uri": "https://localhost:8080/"
        },
        "id": "xPGWCKV0hwIq",
        "outputId": "7c826a74-7fa3-40a1-a8b0-e441f4b362a4"
      },
      "execution_count": 5,
      "outputs": [
        {
          "output_type": "stream",
          "name": "stdout",
          "text": [
            "Indique un numero 105\n",
            "el numero es impar\n"
          ]
        }
      ]
    },
    {
      "cell_type": "markdown",
      "source": [
        "4. Calculadora básica: Escribe un programa que realice operaciones básicas (suma, resta, multiplicación y división) entre dos números introducidos por el usuario."
      ],
      "metadata": {
        "id": "eBh6BOYliS8Q"
      }
    },
    {
      "cell_type": "code",
      "source": [
        "#En primer lugar se definen las funciones de suma resta multiplicacion y division en donde cada una devolvera su resultado impreso\n",
        "def suma(a,b):\n",
        "  c = a + b\n",
        "  print(c)\n",
        "def resta(a,b):\n",
        "  c = a - b\n",
        "  print(c)\n",
        "def multiplicacion(a,b):\n",
        "  c = a * b\n",
        "  print(c)\n",
        "def division(a,b):\n",
        "  c = a / b\n",
        "  print(c)\n",
        "#Cuando se definen las funciones si imprimen las opciones de la calculadora\n",
        "print(\"\"\"Seleccione la opcion que desea\n",
        "      1. Suma\n",
        "      2. Resta\n",
        "      3. Multiplicacion\n",
        "      4. Division\"\"\" )\n",
        "#Se genera una variable que contenga las opciones de la calculadora\n",
        "op = int(input(\"Seleccione la opcion que desea\"))\n",
        "#Se realiza una comparacion de acuerdo a la opcion que escogio el usuario, ademas se crea un input para que el usuario coloque 2 numeros\n",
        "#Se llama a la funcion dependiendo del numero que eligio el usuario y se imprime el resultado\n",
        "if op == 1:\n",
        "  num1 = (int(input(\"Escriba el primer numero\")))\n",
        "  num2 = (int(input(\"Escriba el segundo numero\")))\n",
        "  suma(num1,num2)\n",
        "if op == 2:\n",
        "  num1 = (int(input(\"Escriba el primer numero\")))\n",
        "  num2 = (int(input(\"Escriba el segundo numero\")))\n",
        "  resta(num1,num2)\n",
        "if op == 3:\n",
        "  num1 = (int(input(\"Escriba el primer numero\")))\n",
        "  num2 = (int(input(\"Escriba el segundo numero\")))\n",
        "  multiplicacion(num1,num2)\n",
        "if op == 4:\n",
        "  num1 = (int(input(\"Escriba el primer numero\")))\n",
        "  num2 = (int(input(\"Escriba el segundo numero\")))\n",
        "  division(num1,num2)"
      ],
      "metadata": {
        "colab": {
          "base_uri": "https://localhost:8080/"
        },
        "id": "cpqxbvnvhlXN",
        "outputId": "b1481882-aedd-4447-b94b-1f30195de673"
      },
      "execution_count": 6,
      "outputs": [
        {
          "output_type": "stream",
          "name": "stdout",
          "text": [
            "Seleccione la opcion que desea\n",
            "      1. Suma\n",
            "      2. Resta\n",
            "      3. Multiplicacion\n",
            "      4. Division\n",
            "Seleccione la opcion que desea1\n",
            "Escriba el primer numero5\n",
            "Escriba el primer numero8\n",
            "13\n"
          ]
        }
      ]
    },
    {
      "cell_type": "markdown",
      "source": [
        "5. Número mayor: Escribe un programa que pida tres números al usuario y determine cuál es el mayor."
      ],
      "metadata": {
        "id": "4sxiezGjlaTf"
      }
    },
    {
      "cell_type": "code",
      "source": [
        "#Primero se crean variables para que el usuario coloque los 3 numeros\n",
        "num1 = (int(input(\"Escriba el primer numero\")))\n",
        "num2 = (int(input(\"Escriba el segundo numero\")))\n",
        "num3 = (int(input(\"Escriba el tercer numero\")))\n",
        "#Se crea una lista con los numeros ingresados\n",
        "lista = [num1,num2,num3]\n",
        "#Se ordenan los numeros con la funcion sort\n",
        "lista.sort()\n",
        "#Se imprime el ultimo numero de la lista que al ser ordenado sera el mayor\n",
        "print(f\"El numero mayor de los 3 ingresados es: {lista[2]}\")"
      ],
      "metadata": {
        "colab": {
          "base_uri": "https://localhost:8080/"
        },
        "id": "2XVoruGilby5",
        "outputId": "76ccb764-b75a-40a5-95e3-cf347264877e"
      },
      "execution_count": 14,
      "outputs": [
        {
          "output_type": "stream",
          "name": "stdout",
          "text": [
            "Escriba el primer numero8\n",
            "Escriba el segundo numero9\n",
            "Escriba el tercer numero2\n",
            "El numero mayor es 9\n"
          ]
        }
      ]
    },
    {
      "cell_type": "markdown",
      "source": [
        "6. Cálculo del área de un círculo: Escribe un programa que calcule el área de un círculo a partir de su radio, ingresado por el usuario."
      ],
      "metadata": {
        "id": "HrEgituZoIUO"
      }
    },
    {
      "cell_type": "code",
      "source": [
        "#Se genera una variable en donde el usuario colocara el radio del circulo a calcular\n",
        "radio = int(input(\"Coloque el radio del circulo a calcular \"))\n",
        "#Se genera otra variable en donde se multiplica el radio por pi al cuadrado\n",
        "resultado = 3.141592 * radio **2\n",
        "#Imprimimos el resultado\n",
        "print(resultado)"
      ],
      "metadata": {
        "colab": {
          "base_uri": "https://localhost:8080/"
        },
        "id": "P835vjyaoNpS",
        "outputId": "33fc4a7e-cec0-4df8-b116-e500de6e972c"
      },
      "execution_count": 19,
      "outputs": [
        {
          "output_type": "stream",
          "name": "stdout",
          "text": [
            "Coloque el radio del circulo a calcular 8\n",
            "201.061888\n"
          ]
        }
      ]
    },
    {
      "cell_type": "code",
      "source": [],
      "metadata": {
        "id": "LDmuhVUoovSt"
      },
      "execution_count": null,
      "outputs": []
    }
  ]
}